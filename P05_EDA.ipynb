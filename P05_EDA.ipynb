{
 "cells": [
  {
   "cell_type": "code",
   "execution_count": 18,
   "metadata": {},
   "outputs": [],
   "source": [
    "#Import module\n",
    "import pandas as pd\n",
    "import seaborn as sns\n",
    "import matplotlib.pyplot as plt\n",
    "%matplotlib inline"
   ]
  },
  {
   "cell_type": "code",
   "execution_count": 4,
   "metadata": {},
   "outputs": [],
   "source": [
    "#Read in data\n",
    "df_player = pd.read_csv('player_cleaned.csv')\n",
    "df_team = pd.read_csv('team_cleaned.csv')\n",
    "df_kill = pd.read_csv('kill_cleaned.csv')"
   ]
  },
  {
   "cell_type": "markdown",
   "metadata": {},
   "source": [
    "Examine data frames"
   ]
  },
  {
   "cell_type": "code",
   "execution_count": 5,
   "metadata": {},
   "outputs": [
    {
     "name": "stdout",
     "output_type": "stream",
     "text": [
      "(66, 15)\n"
     ]
    },
    {
     "data": {
      "text/html": [
       "<div>\n",
       "<style scoped>\n",
       "    .dataframe tbody tr th:only-of-type {\n",
       "        vertical-align: middle;\n",
       "    }\n",
       "\n",
       "    .dataframe tbody tr th {\n",
       "        vertical-align: top;\n",
       "    }\n",
       "\n",
       "    .dataframe thead th {\n",
       "        text-align: right;\n",
       "    }\n",
       "</style>\n",
       "<table border=\"1\" class=\"dataframe\">\n",
       "  <thead>\n",
       "    <tr style=\"text-align: right;\">\n",
       "      <th></th>\n",
       "      <th>rank</th>\n",
       "      <th>player</th>\n",
       "      <th>match</th>\n",
       "      <th>damages</th>\n",
       "      <th>knock</th>\n",
       "      <th>kill</th>\n",
       "      <th>survive</th>\n",
       "      <th>assist</th>\n",
       "      <th>longest</th>\n",
       "      <th>traveled</th>\n",
       "      <th>accuracy</th>\n",
       "      <th>main_weapon</th>\n",
       "      <th>kill_per_match</th>\n",
       "      <th>damages_per_match</th>\n",
       "      <th>team_placement</th>\n",
       "    </tr>\n",
       "  </thead>\n",
       "  <tbody>\n",
       "    <tr>\n",
       "      <th>0</th>\n",
       "      <td>1</td>\n",
       "      <td>DxG_Sapauu</td>\n",
       "      <td>20</td>\n",
       "      <td>6109.44</td>\n",
       "      <td>27</td>\n",
       "      <td>37</td>\n",
       "      <td>1397</td>\n",
       "      <td>19</td>\n",
       "      <td>351</td>\n",
       "      <td>143.50</td>\n",
       "      <td>0.1176</td>\n",
       "      <td>FNFal</td>\n",
       "      <td>1.85</td>\n",
       "      <td>305.4720</td>\n",
       "      <td>1</td>\n",
       "    </tr>\n",
       "    <tr>\n",
       "      <th>1</th>\n",
       "      <td>2</td>\n",
       "      <td>AAP_CeeJay18</td>\n",
       "      <td>20</td>\n",
       "      <td>4270.08</td>\n",
       "      <td>20</td>\n",
       "      <td>32</td>\n",
       "      <td>1330</td>\n",
       "      <td>14</td>\n",
       "      <td>505</td>\n",
       "      <td>118.84</td>\n",
       "      <td>0.1024</td>\n",
       "      <td>Mini14</td>\n",
       "      <td>1.60</td>\n",
       "      <td>213.5040</td>\n",
       "      <td>4</td>\n",
       "    </tr>\n",
       "    <tr>\n",
       "      <th>2</th>\n",
       "      <td>3</td>\n",
       "      <td>BRU_Eaddy</td>\n",
       "      <td>20</td>\n",
       "      <td>3548.97</td>\n",
       "      <td>19</td>\n",
       "      <td>30</td>\n",
       "      <td>1348</td>\n",
       "      <td>10</td>\n",
       "      <td>413</td>\n",
       "      <td>120.05</td>\n",
       "      <td>0.1573</td>\n",
       "      <td>FNFal</td>\n",
       "      <td>1.50</td>\n",
       "      <td>177.4485</td>\n",
       "      <td>3</td>\n",
       "    </tr>\n",
       "    <tr>\n",
       "      <th>3</th>\n",
       "      <td>4</td>\n",
       "      <td>QC_Gems</td>\n",
       "      <td>20</td>\n",
       "      <td>4935.77</td>\n",
       "      <td>26</td>\n",
       "      <td>29</td>\n",
       "      <td>1265</td>\n",
       "      <td>18</td>\n",
       "      <td>422</td>\n",
       "      <td>92.29</td>\n",
       "      <td>0.1158</td>\n",
       "      <td>FNFal</td>\n",
       "      <td>1.45</td>\n",
       "      <td>246.7885</td>\n",
       "      <td>2</td>\n",
       "    </tr>\n",
       "    <tr>\n",
       "      <th>4</th>\n",
       "      <td>5</td>\n",
       "      <td>DIC_AnhQuan</td>\n",
       "      <td>20</td>\n",
       "      <td>4549.64</td>\n",
       "      <td>17</td>\n",
       "      <td>29</td>\n",
       "      <td>1245</td>\n",
       "      <td>13</td>\n",
       "      <td>318</td>\n",
       "      <td>84.91</td>\n",
       "      <td>0.1665</td>\n",
       "      <td>HK416</td>\n",
       "      <td>1.45</td>\n",
       "      <td>227.4820</td>\n",
       "      <td>7</td>\n",
       "    </tr>\n",
       "  </tbody>\n",
       "</table>\n",
       "</div>"
      ],
      "text/plain": [
       "   rank        player  match  damages  knock  kill  survive  assist  longest  \\\n",
       "0     1    DxG_Sapauu     20  6109.44     27    37     1397      19      351   \n",
       "1     2  AAP_CeeJay18     20  4270.08     20    32     1330      14      505   \n",
       "2     3     BRU_Eaddy     20  3548.97     19    30     1348      10      413   \n",
       "3     4       QC_Gems     20  4935.77     26    29     1265      18      422   \n",
       "4     5   DIC_AnhQuan     20  4549.64     17    29     1245      13      318   \n",
       "\n",
       "   traveled  accuracy main_weapon  kill_per_match  damages_per_match  \\\n",
       "0    143.50    0.1176       FNFal            1.85           305.4720   \n",
       "1    118.84    0.1024      Mini14            1.60           213.5040   \n",
       "2    120.05    0.1573       FNFal            1.50           177.4485   \n",
       "3     92.29    0.1158       FNFal            1.45           246.7885   \n",
       "4     84.91    0.1665       HK416            1.45           227.4820   \n",
       "\n",
       "   team_placement  \n",
       "0               1  \n",
       "1               4  \n",
       "2               3  \n",
       "3               2  \n",
       "4               7  "
      ]
     },
     "execution_count": 5,
     "metadata": {},
     "output_type": "execute_result"
    }
   ],
   "source": [
    "print(df_player.shape)\n",
    "df_player.head()"
   ]
  },
  {
   "cell_type": "code",
   "execution_count": 9,
   "metadata": {},
   "outputs": [
    {
     "name": "stdout",
     "output_type": "stream",
     "text": [
      "(16, 43)\n"
     ]
    },
    {
     "data": {
      "text/html": [
       "<div>\n",
       "<style scoped>\n",
       "    .dataframe tbody tr th:only-of-type {\n",
       "        vertical-align: middle;\n",
       "    }\n",
       "\n",
       "    .dataframe tbody tr th {\n",
       "        vertical-align: top;\n",
       "    }\n",
       "\n",
       "    .dataframe thead th {\n",
       "        text-align: right;\n",
       "    }\n",
       "</style>\n",
       "<table border=\"1\" class=\"dataframe\">\n",
       "  <thead>\n",
       "    <tr style=\"text-align: right;\">\n",
       "      <th></th>\n",
       "      <th>team_rank</th>\n",
       "      <th>team</th>\n",
       "      <th>total_point</th>\n",
       "      <th>r1_point</th>\n",
       "      <th>r1_kill</th>\n",
       "      <th>r2_point</th>\n",
       "      <th>r2_kill</th>\n",
       "      <th>r3_point</th>\n",
       "      <th>r3_kill</th>\n",
       "      <th>r4_point</th>\n",
       "      <th>...</th>\n",
       "      <th>r16_point</th>\n",
       "      <th>r16_kill</th>\n",
       "      <th>r17_point</th>\n",
       "      <th>r17_kill</th>\n",
       "      <th>r18_point</th>\n",
       "      <th>r18_kill</th>\n",
       "      <th>r19_point</th>\n",
       "      <th>r19_kill</th>\n",
       "      <th>r20_point</th>\n",
       "      <th>r20_kill</th>\n",
       "    </tr>\n",
       "  </thead>\n",
       "  <tbody>\n",
       "    <tr>\n",
       "      <th>0</th>\n",
       "      <td>1</td>\n",
       "      <td>DXG</td>\n",
       "      <td>165</td>\n",
       "      <td>2</td>\n",
       "      <td>5</td>\n",
       "      <td>6</td>\n",
       "      <td>11</td>\n",
       "      <td>4</td>\n",
       "      <td>6</td>\n",
       "      <td>16</td>\n",
       "      <td>...</td>\n",
       "      <td>7</td>\n",
       "      <td>8</td>\n",
       "      <td>2</td>\n",
       "      <td>4</td>\n",
       "      <td>1</td>\n",
       "      <td>10</td>\n",
       "      <td>4</td>\n",
       "      <td>8</td>\n",
       "      <td>4</td>\n",
       "      <td>5</td>\n",
       "    </tr>\n",
       "    <tr>\n",
       "      <th>1</th>\n",
       "      <td>2</td>\n",
       "      <td>QC4</td>\n",
       "      <td>137</td>\n",
       "      <td>3</td>\n",
       "      <td>13</td>\n",
       "      <td>9</td>\n",
       "      <td>3</td>\n",
       "      <td>3</td>\n",
       "      <td>5</td>\n",
       "      <td>15</td>\n",
       "      <td>...</td>\n",
       "      <td>5</td>\n",
       "      <td>6</td>\n",
       "      <td>4</td>\n",
       "      <td>8</td>\n",
       "      <td>10</td>\n",
       "      <td>4</td>\n",
       "      <td>12</td>\n",
       "      <td>0</td>\n",
       "      <td>11</td>\n",
       "      <td>2</td>\n",
       "    </tr>\n",
       "    <tr>\n",
       "      <th>2</th>\n",
       "      <td>3</td>\n",
       "      <td>BRU</td>\n",
       "      <td>137</td>\n",
       "      <td>13</td>\n",
       "      <td>1</td>\n",
       "      <td>1</td>\n",
       "      <td>6</td>\n",
       "      <td>13</td>\n",
       "      <td>1</td>\n",
       "      <td>11</td>\n",
       "      <td>...</td>\n",
       "      <td>8</td>\n",
       "      <td>4</td>\n",
       "      <td>8</td>\n",
       "      <td>2</td>\n",
       "      <td>6</td>\n",
       "      <td>5</td>\n",
       "      <td>10</td>\n",
       "      <td>5</td>\n",
       "      <td>8</td>\n",
       "      <td>1</td>\n",
       "    </tr>\n",
       "    <tr>\n",
       "      <th>3</th>\n",
       "      <td>4</td>\n",
       "      <td>AAP</td>\n",
       "      <td>135</td>\n",
       "      <td>5</td>\n",
       "      <td>5</td>\n",
       "      <td>11</td>\n",
       "      <td>0</td>\n",
       "      <td>12</td>\n",
       "      <td>1</td>\n",
       "      <td>8</td>\n",
       "      <td>...</td>\n",
       "      <td>11</td>\n",
       "      <td>3</td>\n",
       "      <td>14</td>\n",
       "      <td>3</td>\n",
       "      <td>7</td>\n",
       "      <td>1</td>\n",
       "      <td>3</td>\n",
       "      <td>4</td>\n",
       "      <td>10</td>\n",
       "      <td>3</td>\n",
       "    </tr>\n",
       "    <tr>\n",
       "      <th>4</th>\n",
       "      <td>5</td>\n",
       "      <td>MiTH</td>\n",
       "      <td>133</td>\n",
       "      <td>7</td>\n",
       "      <td>1</td>\n",
       "      <td>2</td>\n",
       "      <td>14</td>\n",
       "      <td>1</td>\n",
       "      <td>10</td>\n",
       "      <td>10</td>\n",
       "      <td>...</td>\n",
       "      <td>4</td>\n",
       "      <td>7</td>\n",
       "      <td>13</td>\n",
       "      <td>1</td>\n",
       "      <td>9</td>\n",
       "      <td>6</td>\n",
       "      <td>13</td>\n",
       "      <td>1</td>\n",
       "      <td>16</td>\n",
       "      <td>2</td>\n",
       "    </tr>\n",
       "  </tbody>\n",
       "</table>\n",
       "<p>5 rows × 43 columns</p>\n",
       "</div>"
      ],
      "text/plain": [
       "   team_rank  team  total_point  r1_point  r1_kill  r2_point  r2_kill  \\\n",
       "0          1   DXG          165         2        5         6       11   \n",
       "1          2   QC4          137         3       13         9        3   \n",
       "2          3   BRU          137        13        1         1        6   \n",
       "3          4   AAP          135         5        5        11        0   \n",
       "4          5  MiTH          133         7        1         2       14   \n",
       "\n",
       "   r3_point  r3_kill  r4_point  ...  r16_point  r16_kill  r17_point  r17_kill  \\\n",
       "0         4        6        16  ...          7         8          2         4   \n",
       "1         3        5        15  ...          5         6          4         8   \n",
       "2        13        1        11  ...          8         4          8         2   \n",
       "3        12        1         8  ...         11         3         14         3   \n",
       "4         1       10        10  ...          4         7         13         1   \n",
       "\n",
       "   r18_point  r18_kill  r19_point  r19_kill  r20_point  r20_kill  \n",
       "0          1        10          4         8          4         5  \n",
       "1         10         4         12         0         11         2  \n",
       "2          6         5         10         5          8         1  \n",
       "3          7         1          3         4         10         3  \n",
       "4          9         6         13         1         16         2  \n",
       "\n",
       "[5 rows x 43 columns]"
      ]
     },
     "execution_count": 9,
     "metadata": {},
     "output_type": "execute_result"
    }
   ],
   "source": [
    "print(df_team.shape)\n",
    "df_team.head()"
   ]
  },
  {
   "cell_type": "code",
   "execution_count": 10,
   "metadata": {},
   "outputs": [
    {
     "name": "stdout",
     "output_type": "stream",
     "text": [
      "(16, 11)\n"
     ]
    },
    {
     "data": {
      "text/html": [
       "<div>\n",
       "<style scoped>\n",
       "    .dataframe tbody tr th:only-of-type {\n",
       "        vertical-align: middle;\n",
       "    }\n",
       "\n",
       "    .dataframe tbody tr th {\n",
       "        vertical-align: top;\n",
       "    }\n",
       "\n",
       "    .dataframe thead th {\n",
       "        text-align: right;\n",
       "    }\n",
       "</style>\n",
       "<table border=\"1\" class=\"dataframe\">\n",
       "  <thead>\n",
       "    <tr style=\"text-align: right;\">\n",
       "      <th></th>\n",
       "      <th>team</th>\n",
       "      <th>phase1</th>\n",
       "      <th>phase2</th>\n",
       "      <th>phase3</th>\n",
       "      <th>phase4</th>\n",
       "      <th>phase5</th>\n",
       "      <th>phase6</th>\n",
       "      <th>phase7</th>\n",
       "      <th>phase8</th>\n",
       "      <th>phase9</th>\n",
       "      <th>total_kill</th>\n",
       "    </tr>\n",
       "  </thead>\n",
       "  <tbody>\n",
       "    <tr>\n",
       "      <th>0</th>\n",
       "      <td>DXG</td>\n",
       "      <td>0.0316</td>\n",
       "      <td>0.0316</td>\n",
       "      <td>0.4316</td>\n",
       "      <td>0.5474</td>\n",
       "      <td>0.4211</td>\n",
       "      <td>0.7368</td>\n",
       "      <td>0.3368</td>\n",
       "      <td>0.2316</td>\n",
       "      <td>0.3263</td>\n",
       "      <td>95</td>\n",
       "    </tr>\n",
       "    <tr>\n",
       "      <th>1</th>\n",
       "      <td>QC4</td>\n",
       "      <td>0.2917</td>\n",
       "      <td>0.1771</td>\n",
       "      <td>0.1146</td>\n",
       "      <td>0.4792</td>\n",
       "      <td>0.8229</td>\n",
       "      <td>0.0417</td>\n",
       "      <td>0.2708</td>\n",
       "      <td>0.3021</td>\n",
       "      <td>0.0000</td>\n",
       "      <td>96</td>\n",
       "    </tr>\n",
       "    <tr>\n",
       "      <th>2</th>\n",
       "      <td>BRU</td>\n",
       "      <td>0.1059</td>\n",
       "      <td>0.0471</td>\n",
       "      <td>0.4235</td>\n",
       "      <td>0.4118</td>\n",
       "      <td>0.5529</td>\n",
       "      <td>0.4000</td>\n",
       "      <td>0.2235</td>\n",
       "      <td>0.1765</td>\n",
       "      <td>0.2824</td>\n",
       "      <td>85</td>\n",
       "    </tr>\n",
       "    <tr>\n",
       "      <th>3</th>\n",
       "      <td>AAP</td>\n",
       "      <td>0.4235</td>\n",
       "      <td>0.3412</td>\n",
       "      <td>0.1059</td>\n",
       "      <td>0.6235</td>\n",
       "      <td>0.8588</td>\n",
       "      <td>0.1529</td>\n",
       "      <td>0.2588</td>\n",
       "      <td>0.2471</td>\n",
       "      <td>0.2471</td>\n",
       "      <td>85</td>\n",
       "    </tr>\n",
       "    <tr>\n",
       "      <th>4</th>\n",
       "      <td>MiTH</td>\n",
       "      <td>0.2135</td>\n",
       "      <td>0.1573</td>\n",
       "      <td>0.0899</td>\n",
       "      <td>0.3034</td>\n",
       "      <td>0.7303</td>\n",
       "      <td>0.5618</td>\n",
       "      <td>0.3146</td>\n",
       "      <td>0.1910</td>\n",
       "      <td>0.6966</td>\n",
       "      <td>89</td>\n",
       "    </tr>\n",
       "  </tbody>\n",
       "</table>\n",
       "</div>"
      ],
      "text/plain": [
       "   team  phase1  phase2  phase3  phase4  phase5  phase6  phase7  phase8  \\\n",
       "0   DXG  0.0316  0.0316  0.4316  0.5474  0.4211  0.7368  0.3368  0.2316   \n",
       "1   QC4  0.2917  0.1771  0.1146  0.4792  0.8229  0.0417  0.2708  0.3021   \n",
       "2   BRU  0.1059  0.0471  0.4235  0.4118  0.5529  0.4000  0.2235  0.1765   \n",
       "3   AAP  0.4235  0.3412  0.1059  0.6235  0.8588  0.1529  0.2588  0.2471   \n",
       "4  MiTH  0.2135  0.1573  0.0899  0.3034  0.7303  0.5618  0.3146  0.1910   \n",
       "\n",
       "   phase9  total_kill  \n",
       "0  0.3263          95  \n",
       "1  0.0000          96  \n",
       "2  0.2824          85  \n",
       "3  0.2471          85  \n",
       "4  0.6966          89  "
      ]
     },
     "execution_count": 10,
     "metadata": {},
     "output_type": "execute_result"
    }
   ],
   "source": [
    "print(df_kill.shape)\n",
    "df_kill.head()"
   ]
  },
  {
   "cell_type": "markdown",
   "metadata": {},
   "source": [
    "Examine data"
   ]
  },
  {
   "cell_type": "code",
   "execution_count": 60,
   "metadata": {},
   "outputs": [
    {
     "data": {
      "image/png": "[encoded data removed]",
      "text/plain": [
       "<Figure size 432x288 with 1 Axes>"
      ]
     },
     "metadata": {
      "needs_background": "light"
     },
     "output_type": "display_data"
    },
    {
     "data": {
      "image/png": "[encoded data removed]",
      "text/plain": [
       "<Figure size 432x288 with 1 Axes>"
      ]
     },
     "metadata": {
      "needs_background": "light"
     },
     "output_type": "display_data"
    },
    {
     "data": {
      "image/png": "[encoded data removed]",
      "text/plain": [
       "<Figure size 432x288 with 1 Axes>"
      ]
     },
     "metadata": {
      "needs_background": "light"
     },
     "output_type": "display_data"
    },
    {
     "data": {
      "image/png": "[encoded data removed]",
      "text/plain": [
       "<Figure size 432x288 with 1 Axes>"
      ]
     },
     "metadata": {
      "needs_background": "light"
     },
     "output_type": "display_data"
    },
    {
     "data": {
      "image/png": "[encoded data removed]",
      "text/plain": [
       "<Figure size 432x288 with 1 Axes>"
      ]
     },
     "metadata": {
      "needs_background": "light"
     },
     "output_type": "display_data"
    },
    {
     "data": {
      "image/png": "[encoded data removed]",
      "text/plain": [
       "<Figure size 432x288 with 1 Axes>"
      ]
     },
     "metadata": {
      "needs_background": "light"
     },
     "output_type": "display_data"
    },
    {
     "data": {
      "image/png": "[encoded data removed]",
      "text/plain": [
       "<Figure size 432x288 with 1 Axes>"
      ]
     },
     "metadata": {
      "needs_background": "light"
     },
     "output_type": "display_data"
    }
   ],
   "source": [
    "#Kil count boxplot\n",
    "sns.boxplot(df_player.kill)\n",
    "sns.swarmplot(df_player.kill, size=8, color=\".4\", linewidth=0)\n",
    "plt.show()\n",
    "\n",
    "#Kill vs. team_placement box plot\n",
    "sns.boxplot(df_player.team_placement, df_player.kill)\n",
    "plt.show()\n",
    "\n",
    "#Damagae/knock/kill/assist\n",
    "plt.plot(df_player['rank'], (df_player.damages / 100), label = 'damage')\n",
    "plt.plot(df_player['rank'], df_player.knock, label = 'knock')\n",
    "plt.plot(df_player['rank'], df_player.kill, label = 'kill')\n",
    "plt.plot(df_player['rank'], df_player.assist, label = 'assist')\n",
    "plt.legend()\n",
    "plt.grid()\n",
    "plt.show()\n",
    "\n",
    "#Match count plot\n",
    "sns.countplot(df_player.match)\n",
    "plt.show()\n",
    "\n",
    "#Survive\n",
    "sns.scatterplot(df_player['rank'], df_player.survive)\n",
    "plt.show()\n",
    "\n",
    "#Survive vs. team_placement boxplot\n",
    "sns.boxplot(df_player.team_placement, df_player.survive)\n",
    "plt.show()\n",
    "\n",
    "#Travel distance\n",
    "sns.scatterplot(df_player['rank'],df_player.traveled)\n",
    "plt.grid()\n",
    "plt.show()"
   ]
  },
  {
   "cell_type": "markdown",
   "metadata": {},
   "source": [
    "Substitute players"
   ]
  },
  {
   "cell_type": "code",
   "execution_count": null,
   "metadata": {},
   "outputs": [],
   "source": [
    "df_player.match.value_counts()"
   ]
  },
  {
   "cell_type": "code",
   "execution_count": 53,
   "metadata": {},
   "outputs": [],
   "source": [
    "sub_player = []\n",
    "for x in range(len(df_player.match)):\n",
    "    if df_player.match[0] == 0:\n",
    "        sub = 0\n",
    "    else:\n",
    "        sub = 1\n",
    "    sub_player.append(sub)\n",
    "    \n",
    "df_player['sub_player'] = sub_player"
   ]
  },
  {
   "cell_type": "code",
   "execution_count": null,
   "metadata": {},
   "outputs": [],
   "source": [
    "#Compare subtitute players with starting players"
   ]
  }
 ],
 "metadata": {
  "kernelspec": {
   "display_name": "Python 3",
   "language": "python",
   "name": "python3"
  },
  "language_info": {
   "codemirror_mode": {
    "name": "ipython",
    "version": 3
   },
   "file_extension": ".py",
   "mimetype": "text/x-python",
   "name": "python",
   "nbconvert_exporter": "python",
   "pygments_lexer": "ipython3",
   "version": "3.7.6"
  }
 },
 "nbformat": 4,
 "nbformat_minor": 4
}
